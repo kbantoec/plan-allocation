{
 "cells": [
  {
   "cell_type": "code",
   "execution_count": 1,
   "metadata": {},
   "outputs": [],
   "source": [
    "import pyomo.environ as pyo\n",
    "from pyomo.opt import SolverFactory"
   ]
  },
  {
   "attachments": {},
   "cell_type": "markdown",
   "metadata": {},
   "source": [
    "## The model"
   ]
  },
  {
   "cell_type": "code",
   "execution_count": 2,
   "metadata": {},
   "outputs": [],
   "source": [
    "model = pyo.ConcreteModel()"
   ]
  },
  {
   "attachments": {},
   "cell_type": "markdown",
   "metadata": {},
   "source": [
    "## The sets"
   ]
  },
  {
   "cell_type": "code",
   "execution_count": 3,
   "metadata": {},
   "outputs": [],
   "source": [
    "projects: list[str] = [\"P1\", \"P2\", \"P3\"]\n",
    "model.projects = pyo.Set(initialize=projects)"
   ]
  },
  {
   "cell_type": "code",
   "execution_count": 4,
   "metadata": {},
   "outputs": [
    {
     "name": "stdout",
     "output_type": "stream",
     "text": [
      "projects : Size=1, Index=None, Ordered=Insertion\n",
      "    Key  : Dimen : Domain : Size : Members\n",
      "    None :     1 :    Any :    3 : {'P1', 'P2', 'P3'}\n"
     ]
    }
   ],
   "source": [
    "model.projects.display()"
   ]
  },
  {
   "attachments": {},
   "cell_type": "markdown",
   "metadata": {},
   "source": [
    "## Parameters"
   ]
  },
  {
   "cell_type": "code",
   "execution_count": 5,
   "metadata": {},
   "outputs": [],
   "source": [
    "\n",
    "model.ProjectManagement = pyo.Param(model.projects, initialize={\"P1\": 18, \"P2\": 23, \"P3\": 15})\n",
    "model.DataModeling = pyo.Param(model.projects, initialize={\"P1\": 4, \"P2\": 0, \"P3\": 20})\n",
    "model.DataScience = pyo.Param(model.projects, initialize={\"P1\": 12, \"P2\": 30, \"P3\": 100})\n",
    "model.Priorities = pyo.Param(model.projects, initialize={\"P1\": 3, \"P2\": 1, \"P3\": 2})"
   ]
  },
  {
   "attachments": {},
   "cell_type": "markdown",
   "metadata": {},
   "source": [
    "## Decision variables"
   ]
  },
  {
   "cell_type": "code",
   "execution_count": 6,
   "metadata": {},
   "outputs": [],
   "source": [
    "model.x = pyo.Var(model.projects, within=pyo.NonNegativeIntegers)"
   ]
  },
  {
   "attachments": {},
   "cell_type": "markdown",
   "metadata": {},
   "source": [
    "## Objective functions"
   ]
  },
  {
   "cell_type": "code",
   "execution_count": 7,
   "metadata": {},
   "outputs": [],
   "source": [
    "def objective_callback(model):\n",
    "    return sum(model.Priorities[p] * model.x[p] for p in model.projects)"
   ]
  },
  {
   "cell_type": "code",
   "execution_count": 8,
   "metadata": {},
   "outputs": [],
   "source": [
    "model.ObjectiveFunction = pyo.Objective(rule=objective_callback, sense=pyo.maximize)"
   ]
  },
  {
   "attachments": {},
   "cell_type": "markdown",
   "metadata": {},
   "source": [
    "## Constraints"
   ]
  },
  {
   "cell_type": "code",
   "execution_count": 9,
   "metadata": {},
   "outputs": [],
   "source": [
    "def project_management_constraint_callback(model: pyo.Model, i):\n",
    "    \"\"\"\n",
    "    Parameters:\n",
    "    model: The model\n",
    "    i: It is important to specify this parameter in case we have multiple sets. Otherwise we would have an ambiguity.\n",
    "    \"\"\"\n",
    "    return sum(model.ProjectManagement[p] * model.x[p] for p in model.projects) <= 60\n",
    "\n",
    "\n",
    "model.ConstraintProjectManagement = pyo.Constraint(model.projects, rule=project_management_constraint_callback)\n",
    "\n",
    "\n",
    "def data_modeling_constraint_callback(model: pyo.Model, i):\n",
    "    return sum(model.DataModeling[p] * model.x[p] for p in model.projects) <= 48\n",
    "\n",
    "\n",
    "model.ConstraintDataModeling = pyo.Constraint(model.projects, rule=data_modeling_constraint_callback)\n",
    "\n",
    "\n",
    "def data_science_constraint_callback(model: pyo.Model, i):\n",
    "    return sum(model.DataScience[p] * model.x[p] for p in model.projects) <= 60\n",
    "\n",
    "\n",
    "model.ConstraintDataScience = pyo.Constraint(model.projects, rule=data_science_constraint_callback)\n",
    "\n",
    "\n",
    "def project_outcome_constraint_callback(model: pyo.Model, project):\n",
    "    return model.x[project] <= 1\n",
    "\n",
    "\n",
    "model.ConstraintOutcome = pyo.Constraint(model.projects, rule=project_outcome_constraint_callback)"
   ]
  },
  {
   "attachments": {},
   "cell_type": "markdown",
   "metadata": {},
   "source": [
    "## Solve the model"
   ]
  },
  {
   "cell_type": "code",
   "execution_count": 11,
   "metadata": {},
   "outputs": [
    {
     "name": "stdout",
     "output_type": "stream",
     "text": [
      "\n",
      "Problem: \n",
      "- Name: unknown\n",
      "  Lower bound: 4.0\n",
      "  Upper bound: 4.0\n",
      "  Number of objectives: 1\n",
      "  Number of constraints: 13\n",
      "  Number of variables: 4\n",
      "  Number of nonzeros: 28\n",
      "  Sense: maximize\n",
      "Solver: \n",
      "- Status: ok\n",
      "  Termination condition: optimal\n",
      "  Statistics: \n",
      "    Branch and bound: \n",
      "      Number of bounded subproblems: 0\n",
      "      Number of created subproblems: 0\n",
      "  Error rc: 0\n",
      "  Time: 0.06656026840209961\n",
      "Solution: \n",
      "- number of solutions: 0\n",
      "  number of solutions displayed: 0\n",
      "\n",
      "Objective function =  4.0\n",
      "Is P1 prioritized? 1.0=Yes\n",
      "Is P2 prioritized? 1.0=Yes\n",
      "Is P3 prioritized? 0.0=No\n"
     ]
    }
   ],
   "source": [
    "solver = SolverFactory(\"glpk\")\n",
    "results = solver.solve(model)\n",
    "\n",
    "print(results)\n",
    "\n",
    "print(f\"Objective function =  {model.ObjectiveFunction()}\")\n",
    "\n",
    "for p in model.projects:\n",
    "    print(f\"Is {p} prioritized? {model.x[p]()}={'Yes' if model.x[p]() == 1  else 'No'}\")"
   ]
  },
  {
   "cell_type": "code",
   "execution_count": null,
   "metadata": {},
   "outputs": [],
   "source": []
  }
 ],
 "metadata": {
  "kernelspec": {
   "display_name": "plan-allocation",
   "language": "python",
   "name": "python3"
  },
  "language_info": {
   "codemirror_mode": {
    "name": "ipython",
    "version": 3
   },
   "file_extension": ".py",
   "mimetype": "text/x-python",
   "name": "python",
   "nbconvert_exporter": "python",
   "pygments_lexer": "ipython3",
   "version": "3.10.9"
  },
  "orig_nbformat": 4
 },
 "nbformat": 4,
 "nbformat_minor": 2
}
